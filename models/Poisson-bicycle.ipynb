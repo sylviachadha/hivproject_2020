{
 "cells": [
  {
   "cell_type": "code",
   "execution_count": 15,
   "metadata": {
    "collapsed": true
   },
   "outputs": [],
   "source": [
    "# Poisson Regression Model for forecasting counts\n",
    "# Regression is used to explain the functional relationship b/w the response\n",
    "# variable and the predictor variable.\n",
    "# Overdispersion - variance is greater than mean\n",
    "\n",
    "# Aim - (COUNT BASED DATA)\n",
    "# -------------------------------------------------------------------------------\n",
    "# To model the HIV Cases in Bangkok using Poisson and Negative Binomial\n",
    "# Distribution. No of HIV Cases will be modelled based on the predictor\n",
    "# variables that influence it.\n",
    "\n",
    "# Assumption - there is a certain rate of occurrence of events λ that drives\n",
    "# the generation of such data. The event rate may drift over time.\n",
    "# So λ is no of events per unit time.\n",
    "\n",
    "# -------------------------------------------------------------------------------\n",
    "# Case 1 - If λ is constant / 5 cases per unit time or per day\n",
    "# Poisson Regression model for a constant λ\n",
    "# -------------------------------------------------------------------------------\n",
    "\n",
    "# -------------------------------------------------------------------------------\n",
    "# Case 2 - # Real World situation\n",
    "# λ can change from 1 situation to another i.e. value of λ\n",
    "# is influenced by a vector of explanatory variables, also known as\n",
    "# predictors, regression variables, or regressors or matrix of regression\n",
    "# variables, X.\n",
    "# -------------------------------------------------------------------------------\n",
    "\n",
    "#  Build a Poisson regression model for the observed HIV Recent Infection counts y.\n"
   ]
  },
  {
   "cell_type": "code",
   "execution_count": 16,
   "metadata": {
    "pycharm": {
     "name": "#%%\n"
    }
   },
   "outputs": [],
   "source": [
    "# Step 1 Import libraries\n",
    "# --------------------------------------------------------------\n",
    "import pandas as pd\n",
    "import os\n",
    "import patsy\n",
    "from patsy import dmatrices\n",
    "import numpy as np\n",
    "import statsmodels.api as sm\n",
    "import matplotlib.pyplot as plt\n"
   ]
  },
  {
   "cell_type": "code",
   "execution_count": 3,
   "metadata": {
    "pycharm": {
     "name": "#%%\n"
    }
   },
   "outputs": [
    {
     "name": "stdout",
     "output_type": "stream",
     "text": [
      "/Users/sylviachadha/Desktop/Tools/PyCharm/hivproject_2020/models\n"
     ]
    }
   ],
   "source": [
    "# Step 2 Check wd and read file\n",
    "# --------------------------------------------------------------\n",
    "wd = os.getcwd()\n",
    "print(wd)\n",
    "os.chdir('/Users/sylviachadha/Desktop/Study/All_datasets')\n",
    "\n",
    "df = pd.read_csv('nyc_bb_bicyclist_counts.csv', header=0, infer_datetime_format=True, parse_dates=[0], index_col=[0])\n"
   ]
  },
  {
   "cell_type": "code",
   "execution_count": 18,
   "metadata": {
    "pycharm": {
     "name": "#%%\n"
    }
   },
   "outputs": [],
   "source": [
    "# Step 3 Add some more features to dataset\n",
    "# --------------------------------------------------------------\n",
    "# Convert df index to series and extract columns Month, Day etc\n",
    "ds = df.index.to_series()\n",
    "df['MONTH'] = ds.dt.month\n",
    "df['DAY_OF_WEEK'] = ds.dt.dayofweek\n",
    "df['DAY'] = ds.dt.day\n"
   ]
  },
  {
   "cell_type": "code",
   "execution_count": 19,
   "metadata": {
    "pycharm": {
     "name": "#%%\n"
    }
   },
   "outputs": [
    {
     "name": "stdout",
     "output_type": "stream",
     "text": [
      "Training data set length=175\n",
      "Testing data set length=39\n"
     ]
    }
   ],
   "source": [
    "# Step 4 Create train and test dataset\n",
    "# --------------------------------------------------------------\n",
    "mask = np.random.rand(len(df)) < 0.8\n",
    "df_train = df[mask]\n",
    "df_test = df[~mask]\n",
    "print('Training data set length='+str(len(df_train)))\n",
    "print('Testing data set length='+str(len(df_test)))\n"
   ]
  },
  {
   "cell_type": "code",
   "execution_count": 20,
   "metadata": {
    "pycharm": {
     "name": "#%%\n"
    }
   },
   "outputs": [],
   "source": [
    "# # Step 5 Patsy notation (describing statistical models in pythpn)\n",
    "# --------------------------------------------------------------\n",
    "\n",
    "expr = \"\"\"BB_COUNT ~ DAY  + DAY_OF_WEEK + MONTH + HIGH_T + LOW_T + PRECIP\"\"\"\n"
   ]
  },
  {
   "cell_type": "code",
   "execution_count": 21,
   "metadata": {
    "pycharm": {
     "name": "#%%\n"
    }
   },
   "outputs": [
    {
     "name": "stdout",
     "output_type": "stream",
     "text": [
      "y_train             BB_COUNT\n",
      "Date                \n",
      "2017-04-02    2021.0\n",
      "2017-04-03    2470.0\n",
      "2017-04-05    2807.0\n",
      "2017-04-07    1222.0\n",
      "2017-04-08    1674.0\n",
      "X_train             Intercept  DAY  DAY_OF_WEEK  MONTH  HIGH_T  LOW_T  PRECIP\n",
      "Date                                                                 \n",
      "2017-04-02        1.0  2.0          6.0    4.0    62.1   41.0    0.00\n",
      "2017-04-03        1.0  3.0          0.0    4.0    63.0   50.0    0.03\n",
      "2017-04-05        1.0  5.0          2.0    4.0    63.0   46.0    0.00\n",
      "2017-04-07        1.0  7.0          4.0    4.0    48.0   43.0    0.01\n",
      "2017-04-08        1.0  8.0          5.0    4.0    55.9   39.9    0.00\n"
     ]
    }
   ],
   "source": [
    "#  Step 6 Set up the X and y matrices for the training and testing data sets\n",
    "y_train, X_train = dmatrices(expr, df_train, return_type='dataframe')\n",
    "y_test, X_test = dmatrices(expr, df_test, return_type='dataframe')\n",
    "print(\"y_train\", y_train.head())\n",
    "print(\"X_train\", X_train.head())\n",
    "\n"
   ]
  },
  {
   "cell_type": "code",
   "execution_count": 22,
   "metadata": {
    "pycharm": {
     "name": "#%%\n"
    }
   },
   "outputs": [
    {
     "name": "stdout",
     "output_type": "stream",
     "text": [
      "                 Generalized Linear Model Regression Results                  \n",
      "==============================================================================\n",
      "Dep. Variable:               BB_COUNT   No. Observations:                  175\n",
      "Model:                            GLM   Df Residuals:                      168\n",
      "Model Family:                 Poisson   Df Model:                            6\n",
      "Link Function:                    log   Scale:                          1.0000\n",
      "Method:                          IRLS   Log-Likelihood:                -12002.\n",
      "Date:                Thu, 04 Mar 2021   Deviance:                       22312.\n",
      "Time:                        06:38:31   Pearson chi2:                 2.21e+04\n",
      "No. Iterations:                     5                                         \n",
      "Covariance Type:            nonrobust                                         \n",
      "===============================================================================\n",
      "                  coef    std err          z      P>|z|      [0.025      0.975]\n",
      "-------------------------------------------------------------------------------\n",
      "Intercept       7.0630      0.013    558.796      0.000       7.038       7.088\n",
      "DAY             0.0006      0.000      3.876      0.000       0.000       0.001\n",
      "DAY_OF_WEEK    -0.0226      0.001    -30.811      0.000      -0.024      -0.021\n",
      "MONTH           0.0141      0.001     18.344      0.000       0.013       0.016\n",
      "HIGH_T          0.0233      0.000     71.184      0.000       0.023       0.024\n",
      "LOW_T          -0.0144      0.000    -39.747      0.000      -0.015      -0.014\n",
      "PRECIP         -0.7029      0.007    -96.671      0.000      -0.717      -0.689\n",
      "===============================================================================\n"
     ]
    }
   ],
   "source": [
    "# Step 7 Using the statsmodels GLM class, train the Poisson regression model\n",
    "# on the training data set\n",
    "poisson_training_results = sm.GLM(y_train, X_train, family=sm.families.Poisson()).fit()\n",
    "\n",
    "# Print the training summary.\n",
    "print(poisson_training_results.summary())\n",
    "\n"
   ]
  },
  {
   "cell_type": "code",
   "execution_count": 23,
   "metadata": {
    "pycharm": {
     "name": "#%%\n"
    }
   },
   "outputs": [
    {
     "name": "stdout",
     "output_type": "stream",
     "text": [
      "                   mean    mean_se  mean_ci_lower  mean_ci_upper\n",
      "Date                                                            \n",
      "2017-04-01  1900.778035  11.201971    1878.948890    1922.860785\n",
      "2017-04-04   900.325910   8.170584     884.453440     916.483229\n",
      "2017-04-06  1206.649309   7.994090    1191.082467    1222.419602\n",
      "2017-04-13  2571.749428   8.612097    2554.925300    2588.684342\n",
      "2017-04-15  2404.316198   8.131530    2388.431398    2420.306643\n",
      "2017-04-17  2779.491802  10.467168    2759.052055    2800.082971\n",
      "2017-04-21  1619.088836   7.452125    1604.548622    1633.760811\n",
      "2017-05-01  3285.709354  16.637950    3253.260858    3318.481495\n",
      "2017-05-08  2498.640717  10.848076    2477.469086    2519.993274\n",
      "2017-05-22  1606.984825   8.300676    1590.797874    1623.336483\n",
      "2017-06-02  2735.888397   8.207610    2719.848977    2752.022404\n",
      "2017-06-08  2504.322418   6.927050    2490.782385    2517.936055\n",
      "2017-06-18  2819.868489   9.539928    2801.232429    2838.628532\n",
      "2017-06-20  2974.577973   8.825754    2957.330012    2991.926528\n",
      "2017-06-22  2992.307030   7.320616    2977.993231    3006.689628\n",
      "2017-06-23  2670.727231   9.936652    2651.322588    2690.273894\n",
      "2017-06-29  3022.084861   8.891849    3004.707313    3039.562912\n",
      "2017-07-11  3074.376265  10.051230    3054.739199    3094.139566\n",
      "2017-07-16  3023.003240   9.092639    3005.234422    3040.877119\n",
      "2017-07-20  3463.802396  10.953659    3442.400013    3485.337843\n",
      "2017-07-28  3053.025091   9.596641    3034.273841    3071.892219\n",
      "2017-07-31  3928.507840  19.300100    3890.861876    3966.518047\n",
      "2017-08-09  3376.463657   8.176930    3360.475142    3392.528241\n",
      "2017-08-12  2524.741552   6.144019    2512.728168    2536.812372\n",
      "2017-08-28  3104.813188  10.835043    3083.649355    3126.122274\n",
      "2017-09-06  1991.028401   7.558044    1976.269878    2005.897139\n",
      "2017-09-11  3567.438012  15.627937    3536.938939    3598.200079\n",
      "2017-09-13  3274.460028   8.578663    3257.689252    3291.317141\n",
      "2017-09-14  2991.631753   6.883789    2978.170154    3005.154201\n",
      "2017-09-16  2972.415020   8.250831    2956.287598    2988.630421\n",
      "2017-09-26  3317.015878  10.610086    3296.285543    3337.876587\n",
      "2017-09-27  3374.123278  10.756584    3353.106490    3395.271797\n",
      "2017-09-29  2672.918590   9.825383    2653.730399    2692.245524\n",
      "2017-10-15  2452.795256  10.445903    2432.406872    2473.354535\n",
      "2017-10-22  3092.516292  13.512145    3066.146049    3119.113331\n",
      "2017-10-24  2441.975770   9.266783    2423.880585    2460.206043\n",
      "2017-10-26  2257.134395  10.924417    2235.824167    2278.647736\n",
      "2017-10-27  2676.214883  12.461945    2651.901042    2700.751646\n",
      "2017-10-29   269.730794   5.863365     258.480180     281.471103\n"
     ]
    }
   ],
   "source": [
    "# Step 8 Predictions and results on test data\n",
    "poisson_predictions = poisson_training_results.get_prediction(X_test)\n",
    "#.summary_frame() returns a pandas DataFrame\n",
    "predictions_summary_frame = poisson_predictions.summary_frame()\n",
    "print(predictions_summary_frame)\n"
   ]
  },
  {
   "cell_type": "code",
   "execution_count": 24,
   "metadata": {
    "pycharm": {
     "name": "#%%\n"
    }
   },
   "outputs": [
    {
     "data": {
      "text/plain": "<Figure size 432x288 with 1 Axes>",
      "image/png": "[encoded data removed]"
     },
     "metadata": {
      "needs_background": "light"
     },
     "output_type": "display_data"
    }
   ],
   "source": [
    "# Plot predicted vs actual counts\n",
    "predicted_counts=predictions_summary_frame['mean']\n",
    "actual_counts = y_test['BB_COUNT']\n",
    "fig = plt.figure()\n",
    "fig.suptitle('Predicted versus actual bicyclist counts on the Brooklyn bridge')\n",
    "predicted, = plt.plot(X_test.index, predicted_counts, 'go-', label='Predicted counts')\n",
    "actual, = plt.plot(X_test.index, actual_counts, 'ro-', label='Actual counts')\n",
    "plt.legend(handles=[predicted, actual])\n",
    "plt.show()\n"
   ]
  },
  {
   "cell_type": "code",
   "execution_count": 25,
   "metadata": {
    "pycharm": {
     "name": "#%%\n"
    }
   },
   "outputs": [],
   "source": [
    "# Both the expected value (i.e. mean) and the variance, of the Poisson\n",
    "# distribution is λ. This rather strict condition is violated by most\n",
    "# real-world data."
   ]
  }
 ],
 "metadata": {
  "kernelspec": {
   "display_name": "Python 3",
   "language": "python",
   "name": "python3"
  },
  "language_info": {
   "codemirror_mode": {
    "name": "ipython",
    "version": 3
   },
   "file_extension": ".py",
   "mimetype": "text/x-python",
   "name": "python",
   "nbconvert_exporter": "python",
   "pygments_lexer": "ipython3",
   "version": "3.8.8"
  }
 },
 "nbformat": 4,
 "nbformat_minor": 1
}